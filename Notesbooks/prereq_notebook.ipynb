{
 "cells": [
  {
   "cell_type": "code",
   "execution_count": 1,
   "id": "17210f0b",
   "metadata": {},
   "outputs": [
    {
     "name": "stdout",
     "output_type": "stream",
     "text": [
      "Hello World!\n"
     ]
    }
   ],
   "source": [
    "print(\"Hello World!\")"
   ]
  },
  {
   "cell_type": "markdown",
   "id": "63ca41a7",
   "metadata": {},
   "source": [
    "My name is Davian Bosley, I'm currently a respiratory therapist of about 5 years and I'm looking to leave the bedside and pursue science in a different format. Data Analysis seemed right up my alley so, as intimidating as it can be, I've decided to choose this pathway to better myself and my skills. I have 3 cats (Roxy, Potato, and Ziggy Stardust) and I'm a cozy game fiend. A good cup of coffee and Stardew Valley hates to see me coming!"
   ]
  }
 ],
 "metadata": {
  "kernelspec": {
   "display_name": "Python 3",
   "language": "python",
   "name": "python3"
  },
  "language_info": {
   "codemirror_mode": {
    "name": "ipython",
    "version": 3
   },
   "file_extension": ".py",
   "mimetype": "text/x-python",
   "name": "python",
   "nbconvert_exporter": "python",
   "pygments_lexer": "ipython3",
   "version": "3.13.7"
  }
 },
 "nbformat": 4,
 "nbformat_minor": 5
}
